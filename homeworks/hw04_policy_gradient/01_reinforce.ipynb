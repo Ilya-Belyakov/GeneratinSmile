{
  "cells": [
    {
      "cell_type": "markdown",
      "metadata": {
        "id": "UVkCC1iri2SN"
      },
      "source": [
        "## HW 4: Policy gradient\n",
        "_Reference: based on Practical RL course by YSDA_\n",
        "\n",
        "In this notebook you have to master Policy gradient Q-learning and apply it to familiar (and not so familiar) RL problems once again.\n",
        "\n",
        "To get used to `gymnasium` package, please, refer to the [documentation](https://gymnasium.farama.org/introduction/basic_usage/).\n",
        "\n",
        "\n",
        "In the end of the notebook, please, copy the functions you have implemented to the template file and submit it to the Contest."
      ]
    },
    {
      "cell_type": "code",
      "execution_count": 1,
      "metadata": {
        "id": "7UYczVTli2Sb"
      },
      "outputs": [],
      "source": [
        "import gymnasium as gym\n",
        "import numpy as np\n",
        "import matplotlib.pyplot as plt"
      ]
    },
    {
      "cell_type": "code",
      "execution_count": 2,
      "metadata": {
        "colab": {
          "base_uri": "https://localhost:8080/",
          "height": 414
        },
        "id": "XPKYrIlai2Sf",
        "outputId": "40afec38-6b5a-4f87-f773-5acdc7665b65"
      },
      "outputs": [
        {
          "output_type": "execute_result",
          "data": {
            "text/plain": [
              "<matplotlib.image.AxesImage at 0x7eada417d190>"
            ]
          },
          "metadata": {},
          "execution_count": 2
        },
        {
          "output_type": "display_data",
          "data": {
            "text/plain": [
              "<Figure size 640x480 with 1 Axes>"
            ],
            "image/png": "[encoded data removed]"
          },
          "metadata": {}
        }
      ],
      "source": [
        "env = gym.make(\"CartPole-v1\", render_mode=\"rgb_array\")\n",
        "\n",
        "env.reset()\n",
        "n_actions = env.action_space.n\n",
        "state_dim = env.observation_space.shape\n",
        "\n",
        "plt.imshow(env.render())"
      ]
    },
    {
      "cell_type": "markdown",
      "metadata": {
        "id": "75eHkuwTi2Si"
      },
      "source": [
        "# Building the network for Policy Gradient (REINFORCE)"
      ]
    },
    {
      "cell_type": "markdown",
      "metadata": {
        "id": "x_TFCmsWi2Sj"
      },
      "source": [
        "For REINFORCE algorithm, we'll need a model that predicts action probabilities given states.\n",
        "\n",
        "For numerical stability, please __do not include the softmax layer into your network architecture__.\n",
        "We'll use softmax or log-softmax where appropriate."
      ]
    },
    {
      "cell_type": "code",
      "execution_count": 3,
      "metadata": {
        "id": "sY2THBWfi2Sl"
      },
      "outputs": [],
      "source": [
        "import torch\n",
        "import torch.nn as nn"
      ]
    },
    {
      "cell_type": "code",
      "source": [
        "from torch.distributions import Categorical\n",
        "\n",
        "# Инициализация, устойчиво работающая в RL\n",
        "def _orthogonal_init(m):\n",
        "    if isinstance(m, nn.Linear):\n",
        "        nn.init.orthogonal_(m.weight, gain=nn.init.calculate_gain('tanh'))\n",
        "        nn.init.constant_(m.bias, 0.)\n",
        "\n",
        "class PolicyNet(nn.Module):\n",
        "    \"\"\"\n",
        "    Политика: наблюдение -> logits по действиям.\n",
        "    Подходит для CartPole: obs_dim=4, act_dim=2.\n",
        "    \"\"\"\n",
        "    def __init__(self, obs_dim: int, act_dim: int, hidden_sizes=(64, 64)):\n",
        "        super().__init__()\n",
        "        layers = []\n",
        "        in_dim = obs_dim\n",
        "        for h in hidden_sizes:\n",
        "            layers += [nn.Linear(in_dim, h), nn.Tanh()]\n",
        "            in_dim = h\n",
        "        self.backbone = nn.Sequential(*layers)\n",
        "        self.logits = nn.Linear(in_dim, act_dim)\n",
        "\n",
        "        # Инициализация слоёв\n",
        "        self.apply(_orthogonal_init)\n",
        "        nn.init.orthogonal_(self.logits.weight, gain=0.01)\n",
        "        nn.init.constant_(self.logits.bias, 0.)\n",
        "\n",
        "    def forward(self, x: torch.Tensor) -> torch.Tensor:\n",
        "        # Ожидает float32 тензор [B, obs_dim] или [obs_dim]\n",
        "        if x.dim() == 1:\n",
        "            x = x.unsqueeze(0)\n",
        "        h = self.backbone(x)\n",
        "        return self.logits(h)  # [B, act_dim]\n",
        "\n",
        "    @torch.no_grad()\n",
        "    def get_action(self, x: torch.Tensor, deterministic: bool = False):\n",
        "        logits = self.forward(x)\n",
        "        dist = Categorical(logits=logits)\n",
        "        if deterministic:\n",
        "            action = torch.argmax(logits, dim=-1)\n",
        "        else:\n",
        "            action = dist.sample()\n",
        "        logprob = dist.log_prob(action)\n",
        "        return action, logprob, logits\n",
        "\n",
        "class ActorCritic(nn.Module):\n",
        "    \"\"\"\n",
        "    Актор-критик: наблюдение -> (policy logits, value).\n",
        "    Удобно для PPO/A2C.\n",
        "    \"\"\"\n",
        "    def __init__(self, obs_dim: int, act_dim: int, hidden_sizes=(32, 32)):\n",
        "        super().__init__()\n",
        "        layers = []\n",
        "        in_dim = obs_dim\n",
        "        for h in hidden_sizes:\n",
        "            layers += [nn.Linear(in_dim, h), nn.Tanh()]\n",
        "            in_dim = h\n",
        "        self.body = nn.Sequential(*layers)\n",
        "        self.pi = nn.Linear(in_dim, act_dim)\n",
        "        self.v = nn.Linear(in_dim, 1)\n",
        "\n",
        "        # Инициализация слоёв\n",
        "        self.apply(_orthogonal_init)\n",
        "        nn.init.orthogonal_(self.pi.weight, gain=0.01)\n",
        "        nn.init.constant_(self.pi.bias, 0.)\n",
        "        nn.init.orthogonal_(self.v.weight, gain=1.0)\n",
        "        nn.init.constant_(self.v.bias, 0.)\n",
        "\n",
        "    def forward(self, x: torch.Tensor):\n",
        "        if x.dim() == 1:\n",
        "            x = x.unsqueeze(0)\n",
        "        h = self.body(x)\n",
        "        logits = self.pi(h)           # [B, act_dim]\n",
        "        value = self.v(h).squeeze(-1) # [B]\n",
        "        return logits, value\n",
        "\n",
        "    @torch.no_grad()\n",
        "    def get_action_and_value(self, x: torch.Tensor, deterministic: bool = False):\n",
        "        logits, value = self.forward(x)\n",
        "        dist = Categorical(logits=logits)\n",
        "        action = torch.argmax(logits, dim=-1) if deterministic else dist.sample()\n",
        "        logprob = dist.log_prob(action)\n",
        "        return action, logprob, value, logits\n",
        "\n",
        "# Пример использования с CartPole:\n",
        "# import gymnasium as gym\n",
        "# env = gym.make(\"CartPole-v1\")\n",
        "# obs_dim = env.observation_space.shape[0]  # 4\n",
        "# act_dim = env.action_space.n              # 2\n",
        "model = PolicyNet(state_dim[0], n_actions)\n",
        "# assert model is not None, \"model is not defined\""
      ],
      "metadata": {
        "id": "E2p7bqa7j3nY"
      },
      "execution_count": 8,
      "outputs": []
    },
    {
      "cell_type": "code",
      "execution_count": 10,
      "metadata": {
        "id": "hVDcL1SyQhI9",
        "outputId": "41366e68-e02d-4a41-89f2-33d113ca153a",
        "colab": {
          "base_uri": "https://localhost:8080/"
        }
      },
      "outputs": [
        {
          "output_type": "stream",
          "name": "stdout",
          "text": [
            "example_states_batch.shape: (5, 4)\n",
            "example_logits.shape: torch.Size([5, 2])\n"
          ]
        }
      ],
      "source": [
        "# do not change the code block below\n",
        "batch_size_for_test = 5\n",
        "example_states_batch = np.array([env.reset()[0] for _ in range(5)])\n",
        "print(f\"example_states_batch.shape: {example_states_batch.shape}\")\n",
        "assert example_states_batch.shape == (batch_size_for_test, state_dim[0])\n",
        "\n",
        "example_logits = model(torch.from_numpy(example_states_batch))\n",
        "print(f\"example_logits.shape: {example_logits.shape}\")\n",
        "assert example_logits.shape == (batch_size_for_test, n_actions)\n",
        "# do not change the code block above"
      ]
    },
    {
      "cell_type": "markdown",
      "metadata": {
        "id": "8Y80qbQFi2Sq"
      },
      "source": [
        "#### Predicting the action probas"
      ]
    },
    {
      "cell_type": "markdown",
      "metadata": {
        "id": "12PjRu0mi2Sr"
      },
      "source": [
        "Note: **output value of this function is not a torch tensor, it's a numpy array.**\n",
        "\n",
        "So, here gradient calculation is not needed.\n",
        "\n",
        "Use [no_grad](https://pytorch.org/docs/stable/autograd.html#torch.autograd.no_grad)\n",
        "to suppress gradient calculation.\n",
        "\n",
        "Also, `.detach()` can be used instead, but there is a difference:\n",
        "\n",
        "* With `.detach()` computational graph is built but then disconnected from a particular tensor, so `.detach()` should be used if that graph is needed for backprop via some other (not detached) tensor;\n",
        "* In contrast, no graph is built by any operation in `no_grad()` context, thus it's preferable here."
      ]
    },
    {
      "cell_type": "code",
      "execution_count": 13,
      "metadata": {
        "id": "d5B5JuXCi2St"
      },
      "outputs": [],
      "source": [
        "import torch.nn.functional as F\n",
        "def predict_probs(states, model = model):\n",
        "    \"\"\"\n",
        "    Predict action probabilities given states.\n",
        "    :param states: numpy array of shape [batch, state_shape]\n",
        "    :param model: torch model\n",
        "    :returns: numpy array of shape [batch, n_actions]\n",
        "    \"\"\"\n",
        "    # convert states, compute logits, use softmax to get probability\n",
        "    x_np = np.asarray(states, dtype=np.float32)\n",
        "    if x_np.ndim == 1:\n",
        "        x_np = x_np[None, :]  # [1, state_dim]\n",
        "\n",
        "    x = torch.from_numpy(x_np)\n",
        "    device = next(model.parameters()).device  # предполагаем, что у модели есть параметры\n",
        "    x = x.to(device)\n",
        "\n",
        "    was_training = model.training\n",
        "    model.eval()\n",
        "    with torch.no_grad():\n",
        "        out = model(x)\n",
        "        # Поддержка моделей, которые возвращают (logits, value)\n",
        "        logits = out[0] if isinstance(out, (tuple, list)) else out\n",
        "        probs_t = F.softmax(logits, dim=-1)\n",
        "        probs = probs_t.cpu().numpy()\n",
        "    if was_training:\n",
        "        model.train()\n",
        "\n",
        "    # YOUR CODE GOES HERE\n",
        "    assert probs is not None, \"probs is not defined\"\n",
        "\n",
        "    return probs"
      ]
    },
    {
      "cell_type": "code",
      "execution_count": 14,
      "metadata": {
        "id": "Obkl_jCii2Sv"
      },
      "outputs": [],
      "source": [
        "test_states = np.array([env.reset()[0] for _ in range(5)])\n",
        "test_probas = predict_probs(test_states)\n",
        "assert isinstance(test_probas, np.ndarray), \\\n",
        "    \"you must return np array and not %s\" % type(test_probas)\n",
        "assert tuple(test_probas.shape) == (test_states.shape[0], env.action_space.n), \\\n",
        "    \"wrong output shape: %s\" % np.shape(test_probas)\n",
        "assert np.allclose(np.sum(test_probas, axis=1), 1), \"probabilities do not sum to 1\""
      ]
    },
    {
      "cell_type": "markdown",
      "metadata": {
        "id": "Be6AYf8gi2Sw"
      },
      "source": [
        "### Play the game\n",
        "\n",
        "We can now use our newly built agent to play the game."
      ]
    },
    {
      "cell_type": "code",
      "execution_count": 15,
      "metadata": {
        "id": "8LOUUvnki2Sx"
      },
      "outputs": [],
      "source": [
        "def generate_session(env, t_max=1000):\n",
        "    \"\"\"\n",
        "    Play a full session with REINFORCE agent.\n",
        "    Returns sequences of states, actions, and rewards.\n",
        "    \"\"\"\n",
        "    # arrays to record session\n",
        "    states, actions, rewards = [], [], []\n",
        "    s, info = env.reset()\n",
        "\n",
        "    for t in range(t_max):\n",
        "        # action probabilities array aka pi(a|s)\n",
        "        action_probs = predict_probs(np.array([s]))[0]\n",
        "\n",
        "        # Sample action with given probabilities.\n",
        "        a = np.random.choice(n_actions, p=action_probs)\n",
        "        new_s, r, done, truncated, info = env.step(a)\n",
        "\n",
        "        # record session history to train later\n",
        "        states.append(s)\n",
        "        actions.append(a)\n",
        "        rewards.append(r)\n",
        "\n",
        "        s = new_s\n",
        "        if done:\n",
        "            break\n",
        "\n",
        "    return states, actions, rewards"
      ]
    },
    {
      "cell_type": "code",
      "execution_count": 16,
      "metadata": {
        "id": "5sdENWJAi2Sz"
      },
      "outputs": [],
      "source": [
        "# test it\n",
        "states, actions, rewards = generate_session(env)"
      ]
    },
    {
      "cell_type": "markdown",
      "metadata": {
        "id": "eG5hLg-3i2S0"
      },
      "source": [
        "### Computing cumulative rewards\n",
        "\n",
        "To work with sequential environments we need the cumulative discounted reward for known for every state. To compute it we can **roll back** from the end of the session to the beginning and compute the discounted cumulative reward as following:\n",
        "\n",
        "$$\n",
        "\\begin{align*}\n",
        "G_t &= r_t + \\gamma r_{t + 1} + \\gamma^2 r_{t + 2} + \\ldots \\\\\n",
        "&= \\sum_{i = t}^T \\gamma^{i - t} r_i \\\\\n",
        "&= r_t + \\gamma * G_{t + 1}\n",
        "\\end{align*}\n",
        "$$"
      ]
    },
    {
      "cell_type": "code",
      "execution_count": 17,
      "metadata": {
        "id": "AoWX9gvai2S0"
      },
      "outputs": [],
      "source": [
        "def get_cumulative_rewards(rewards,  # rewards at each step\n",
        "                           gamma=0.99  # discount for reward\n",
        "                           ):\n",
        "    \"\"\"\n",
        "    Take a list of immediate rewards r(s,a) for the whole session\n",
        "    and compute cumulative returns (a.k.a. G(s,a) in Sutton '16).\n",
        "\n",
        "    G_t = r_t + gamma*r_{t+1} + gamma^2*r_{t+2} + ...\n",
        "\n",
        "    A simple way to compute cumulative rewards is to iterate from the last\n",
        "    to the first timestep and compute G_t = r_t + gamma*G_{t+1} recurrently\n",
        "\n",
        "    You must return an array/list of cumulative rewards with as many elements as in the initial rewards.\n",
        "    \"\"\"\n",
        "    # YOUR CODE GOES HERE\n",
        "    is_np = hasattr(rewards, \"__array__\")\n",
        "    if is_np:\n",
        "        import numpy as np\n",
        "        rewards = np.asarray(rewards, dtype=np.float32)\n",
        "        cumulative_rewards = np.zeros_like(rewards, dtype=np.float32)\n",
        "    else:\n",
        "        cumulative_rewards = [0.0] * len(rewards)\n",
        "\n",
        "    G = 0.0\n",
        "    for t in range(len(rewards) - 1, -1, -1):\n",
        "        G = float(rewards[t]) + gamma * G\n",
        "        if is_np:\n",
        "            cumulative_rewards[t] = G\n",
        "        else:\n",
        "            cumulative_rewards[t] = G\n",
        "    assert cumulative_rewards is not None, \"cumulative_rewards is not defined\"\n",
        "\n",
        "    return cumulative_rewards"
      ]
    },
    {
      "cell_type": "code",
      "execution_count": 18,
      "metadata": {
        "colab": {
          "base_uri": "https://localhost:8080/"
        },
        "id": "2DX39wcUi2S3",
        "outputId": "50ab69cf-dcc6-4540-fadb-57c16cfc7ac7"
      },
      "outputs": [
        {
          "output_type": "stream",
          "name": "stdout",
          "text": [
            "looks good!\n"
          ]
        }
      ],
      "source": [
        "get_cumulative_rewards(rewards)\n",
        "assert len(get_cumulative_rewards(list(range(100)))) == 100\n",
        "assert np.allclose(\n",
        "    get_cumulative_rewards([0, 0, 1, 0, 0, 1, 0], gamma=0.9),\n",
        "    [1.40049, 1.5561, 1.729, 0.81, 0.9, 1.0, 0.0])\n",
        "assert np.allclose(\n",
        "    get_cumulative_rewards([0, 0, 1, -2, 3, -4, 0], gamma=0.5),\n",
        "    [0.0625, 0.125, 0.25, -1.5, 1.0, -4.0, 0.0])\n",
        "assert np.allclose(\n",
        "    get_cumulative_rewards([0, 0, 1, 2, 3, 4, 0], gamma=0),\n",
        "    [0, 0, 1, 2, 3, 4, 0])\n",
        "print(\"looks good!\")"
      ]
    },
    {
      "cell_type": "markdown",
      "metadata": {
        "id": "evLt5DJji2S_"
      },
      "source": [
        "### Loss function and updates\n",
        "\n",
        "We now need to define objective and update over policy gradient.\n",
        "\n",
        "Our objective function is\n",
        "\n",
        "$$ J \\approx  { 1 \\over N } \\sum_{s_i,a_i} G(s_i,a_i) $$\n",
        "\n",
        "REINFORCE defines a way to compute the gradient of the expected reward with respect to policy parameters. The formula is as follows:\n",
        "\n",
        "$$ \\nabla_\\theta \\hat J(\\theta) \\approx { 1 \\over N } \\sum_{s_i, a_i} \\nabla_\\theta \\log \\pi_\\theta (a_i \\mid s_i) \\cdot G_t(s_i, a_i) $$\n",
        "\n",
        "We can abuse PyTorch's capabilities for automatic differentiation by defining our objective function as follows:\n",
        "\n",
        "$$ \\hat J(\\theta) \\approx { 1 \\over N } \\sum_{s_i, a_i} \\log \\pi_\\theta (a_i \\mid s_i) \\cdot G_t(s_i, a_i) $$\n",
        "\n",
        "When you compute the gradient of that function with respect to network weights $\\theta$, it will become exactly the policy gradient.\n",
        "\n",
        "Final loss should also include the entropy regularization term $H(\\pi_\\theta (a_i \\mid s_i))$ to enforce the exploration:\n",
        "\n",
        "$$\n",
        "L = -\\hat J(\\theta) - \\lambda H(\\pi_\\theta (a_i \\mid s_i)),\n",
        "$$\n",
        "where $\\lambda$ is the `entropy_coef`."
      ]
    },
    {
      "cell_type": "markdown",
      "metadata": {
        "id": "44aZwygdQhJC"
      },
      "source": [
        "This function might be useful:"
      ]
    },
    {
      "cell_type": "code",
      "execution_count": null,
      "metadata": {
        "id": "_hLjxTVLi2TB"
      },
      "outputs": [],
      "source": [
        "def to_one_hot(y_tensor, ndims):\n",
        "    \"\"\" helper: take an integer vector and convert it to 1-hot matrix. \"\"\"\n",
        "    y_tensor = y_tensor.type(torch.LongTensor).view(-1, 1)\n",
        "    y_one_hot = torch.zeros(\n",
        "        y_tensor.size()[0], ndims).scatter_(1, y_tensor, 1)\n",
        "    return y_one_hot"
      ]
    },
    {
      "cell_type": "code",
      "execution_count": 19,
      "metadata": {
        "id": "KllKLGbYQhJC"
      },
      "outputs": [],
      "source": [
        "def get_loss(logits, actions, rewards, n_actions=n_actions, gamma=0.99, entropy_coef=1e-2):\n",
        "    \"\"\"\n",
        "    Compute the loss for the REINFORCE algorithm.\n",
        "    \"\"\"\n",
        "    device = logits.device\n",
        "\n",
        "    actions = torch.tensor(actions, dtype=torch.int64, device=device).view(-1)  # индексы должны быть long\n",
        "    cumulative_returns = torch.tensor(\n",
        "        get_cumulative_rewards(rewards, gamma), dtype=torch.float32, device=device\n",
        "    ).view(-1)\n",
        "\n",
        "    # Проверки формы\n",
        "    assert logits.dim() == 2, f\"logits must be [B, A], got {logits.shape}\"\n",
        "    assert logits.size(0) == actions.size(0) == cumulative_returns.size(0), \"batch sizes must match\"\n",
        "    if n_actions is not None:\n",
        "        assert logits.size(1) == n_actions, f\"n_actions mismatch: {logits.size(1)} vs {n_actions}\"\n",
        "\n",
        "    # probs и log_probs (в torch)\n",
        "    probs = F.softmax(logits, dim=-1)\n",
        "    log_probs = F.log_softmax(logits, dim=-1)\n",
        "\n",
        "    # log pi(a_t|s_t) для выбранных действий\n",
        "    log_probs_for_actions = log_probs.gather(1, actions.view(-1, 1)).squeeze(1)  # [B]\n",
        "\n",
        "    # Оценка целевой функции (максимизируемая): E[log pi(a|s) * G]\n",
        "    J_hat = torch.mean(log_probs_for_actions * cumulative_returns)\n",
        "\n",
        "    # Энтропия политики: H = -sum p log p\n",
        "    entropy = -(probs * log_probs).sum(dim=1).mean()\n",
        "\n",
        "    # Итоговый лосс для минимизации: -J - beta * H\n",
        "    loss = -J_hat - entropy_coef * entropy\n",
        "\n",
        "    return loss\n",
        "\n",
        "\n",
        "\n",
        "\n",
        "\n",
        "\n",
        "\n",
        "\n",
        "\n",
        "\n",
        "\n",
        "    actions = torch.tensor(actions, dtype=torch.int32)\n",
        "    cumulative_returns = np.array(get_cumulative_rewards(rewards, gamma))\n",
        "    cumulative_returns = torch.tensor(cumulative_returns, dtype=torch.float32)\n",
        "\n",
        "    probs = None\n",
        "    assert probs is not None, \"probs is not defined\"\n",
        "\n",
        "    log_probs = None\n",
        "    assert log_probs is not None, \"log_probs is not defined\"\n",
        "\n",
        "    assert all(isinstance(v, torch.Tensor) for v in [logits, probs, log_probs]), \\\n",
        "        \"please use compute using torch tensors and don't use predict_probs function\"\n",
        "\n",
        "    # select log-probabilities for chosen actions, log pi(a_i|s_i)\n",
        "    log_probs_for_actions = None # [batch,]\n",
        "    assert log_probs_for_actions is not None, \"log_probs_for_actions is not defined\"\n",
        "    J_hat = None  # a number\n",
        "    assert J_hat is not None, \"J_hat is not defined\"\n",
        "\n",
        "    # Compute loss here. Don't forget entropy regularization with `entropy_coef`\n",
        "    entropy = None\n",
        "    assert entropy is not None, \"entropy is not defined\"\n",
        "    loss = None\n",
        "    assert loss is not None, \"loss is not defined\"\n",
        "\n",
        "    return loss"
      ]
    },
    {
      "cell_type": "code",
      "execution_count": 20,
      "metadata": {
        "id": "1C8ZSizji2TD"
      },
      "outputs": [],
      "source": [
        "# Your code: define optimizers\n",
        "optimizer = torch.optim.Adam(model.parameters(), 1e-3)\n",
        "\n",
        "def train_on_session(states, actions, rewards, gamma=0.99, entropy_coef=1e-2):\n",
        "    \"\"\"\n",
        "    Takes a sequence of states, actions and rewards produced by generate_session.\n",
        "    Updates agent's weights by following the policy gradient above.\n",
        "    Please use Adam optimizer with default parameters.\n",
        "    \"\"\"\n",
        "\n",
        "    states = torch.tensor(states, dtype=torch.float32)\n",
        "    logits = model(states)\n",
        "    # cast everything into torch tensors\n",
        "    loss = get_loss(logits, actions, rewards, n_actions=n_actions, gamma=gamma, entropy_coef=entropy_coef)\n",
        "    # Gradient descent step\n",
        "    loss.backward()\n",
        "    optimizer.step()\n",
        "    optimizer.zero_grad()\n",
        "\n",
        "    # technical: return session rewards to print them later\n",
        "    return np.sum(rewards)"
      ]
    },
    {
      "cell_type": "markdown",
      "metadata": {
        "id": "E-WWsbl5i2TE"
      },
      "source": [
        "### The actual training"
      ]
    },
    {
      "cell_type": "code",
      "execution_count": null,
      "metadata": {
        "colab": {
          "base_uri": "https://localhost:8080/"
        },
        "id": "ckHj5sXBi2TE",
        "outputId": "75c44814-9595-467a-f64d-f9780fac1af1",
        "scrolled": true
      },
      "outputs": [
        {
          "output_type": "stream",
          "name": "stderr",
          "text": [
            "/tmp/ipython-input-2359954175.py:11: UserWarning: Creating a tensor from a list of numpy.ndarrays is extremely slow. Please consider converting the list to a single numpy.ndarray with numpy.array() before converting to a tensor. (Triggered internally at /pytorch/torch/csrc/utils/tensor_new.cpp:253.)\n",
            "  states = torch.tensor(states, dtype=torch.float32)\n"
          ]
        },
        {
          "output_type": "stream",
          "name": "stdout",
          "text": [
            "mean reward:53.440\n",
            "mean reward:119.370\n",
            "mean reward:154.270\n",
            "mean reward:144.310\n",
            "mean reward:211.580\n",
            "mean reward:165.250\n",
            "mean reward:141.870\n",
            "mean reward:135.910\n",
            "mean reward:120.190\n",
            "mean reward:156.440\n",
            "mean reward:216.730\n",
            "mean reward:161.410\n",
            "mean reward:125.650\n",
            "mean reward:189.920\n",
            "mean reward:236.530\n",
            "mean reward:258.890\n",
            "mean reward:347.940\n",
            "mean reward:318.430\n",
            "mean reward:195.280\n",
            "mean reward:144.660\n",
            "mean reward:196.390\n",
            "mean reward:263.940\n",
            "mean reward:190.620\n",
            "mean reward:139.490\n",
            "mean reward:233.560\n",
            "mean reward:311.510\n",
            "mean reward:91.210\n",
            "mean reward:110.540\n",
            "mean reward:115.760\n",
            "mean reward:121.040\n",
            "mean reward:92.040\n",
            "mean reward:139.120\n",
            "mean reward:116.200\n",
            "mean reward:110.240\n",
            "mean reward:115.510\n",
            "mean reward:103.630\n",
            "mean reward:171.030\n",
            "mean reward:117.670\n",
            "mean reward:107.380\n",
            "mean reward:101.860\n",
            "mean reward:114.780\n",
            "mean reward:146.120\n",
            "mean reward:93.400\n",
            "mean reward:111.650\n",
            "mean reward:110.510\n",
            "mean reward:98.860\n",
            "mean reward:109.500\n",
            "mean reward:160.460\n"
          ]
        }
      ],
      "source": [
        "for i in range(500):\n",
        "    rewards = [train_on_session(*generate_session(env), entropy_coef=1e-3) for _ in range(100)]  # generate new sessions\n",
        "\n",
        "    print(\"mean reward:%.3f\" % (np.mean(rewards)))\n",
        "\n",
        "    if np.mean(rewards) > 800:\n",
        "        print(\"You Win!\")  # but you can train even further\n",
        "        break"
      ]
    },
    {
      "cell_type": "markdown",
      "metadata": {
        "id": "Bg__sQeti2TF"
      },
      "source": [
        "### Watch the video of your results:"
      ]
    },
    {
      "cell_type": "code",
      "execution_count": null,
      "metadata": {
        "id": "C9pTyCRhQhJD"
      },
      "outputs": [],
      "source": [
        "import os\n",
        "import numpy as np\n",
        "import gymnasium as gym\n",
        "from gymnasium.utils.save_video import save_video\n",
        "\n",
        "env_for_video = gym.make(\"CartPole-v1\", render_mode=\"rgb_array_list\")\n",
        "n_actions = env_for_video.action_space.n\n",
        "\n",
        "episode_index = 0\n",
        "step_starting_index = 0\n",
        "\n",
        "obs, info = env_for_video.reset()\n",
        "\n",
        "for step_index in range(800):\n",
        "    probs = predict_probs(np.array([obs]))[0]\n",
        "    action = np.random.choice(n_actions, p=probs)\n",
        "\n",
        "    obs, reward, terminated, truncated, info = env_for_video.step(action)\n",
        "    done = terminated or truncated\n",
        "\n",
        "    if done or step_index == 799:\n",
        "        # env_for_video.render() now returns the LIST of frames accumulated so far\n",
        "        frames = env_for_video.render()\n",
        "        os.makedirs(\"videos\", exist_ok=True)\n",
        "        save_video(\n",
        "            frames, \"videos\",\n",
        "            fps=env_for_video.metadata.get(\"render_fps\", 30),\n",
        "            step_starting_index=step_starting_index,\n",
        "            episode_index=episode_index,\n",
        "        )\n",
        "        episode_index += 1\n",
        "        step_starting_index = step_index + 1\n",
        "        obs, info = env_for_video.reset()\n",
        "\n",
        "env_for_video.close()\n"
      ]
    },
    {
      "cell_type": "markdown",
      "metadata": {
        "id": "WYZjNK-PQhJD"
      },
      "source": [
        "Congratulations! Finally, copy the `predict_probs`, `get_cumulative_rewards` and `get_loss` to the template and submit them to the Contest.\n",
        "\n",
        "Good luck!"
      ]
    },
    {
      "cell_type": "markdown",
      "metadata": {
        "id": "FL0MbePpQhJE"
      },
      "source": [
        "## Bonus part (no points, just for the interested ones)\n",
        "\n",
        "Try solving the `Acrobot-v1` environment. It is more complex than regular `CartPole-v1`, so the default Policy Gradient (REINFORCE) algorithm might not work. Maybe the baseline idea could help...\n",
        "\n",
        "![Acrobot](https://gymnasium.farama.org/_images/acrobot.gif)\n"
      ]
    },
    {
      "cell_type": "code",
      "execution_count": null,
      "metadata": {
        "id": "yfGfcrmtQhJE"
      },
      "outputs": [],
      "source": [
        "env = gym.make(\"Acrobot-v1\", render_mode=\"rgb_array\")\n",
        "\n",
        "\n",
        "env.reset()\n",
        "n_actions = env.action_space.n\n",
        "state_dim = env.observation_space.shape\n",
        "\n",
        "plt.imshow(env.render())"
      ]
    },
    {
      "cell_type": "code",
      "execution_count": null,
      "metadata": {
        "id": "sZFyxjaQQhJE"
      },
      "outputs": [],
      "source": [
        "# Your brave and victorious code here."
      ]
    }
  ],
  "metadata": {
    "colab": {
      "provenance": []
    },
    "kernelspec": {
      "display_name": "py3_main",
      "language": "python",
      "name": "python3"
    },
    "language_info": {
      "codemirror_mode": {
        "name": "ipython",
        "version": 3
      },
      "file_extension": ".py",
      "mimetype": "text/x-python",
      "name": "python",
      "nbconvert_exporter": "python",
      "pygments_lexer": "ipython3",
      "version": "3.12.9"
    }
  },
  "nbformat": 4,
  "nbformat_minor": 0
}